{
 "cells": [
  {
   "cell_type": "code",
   "execution_count": 1,
   "metadata": {},
   "outputs": [],
   "source": [
    "from datasets import load_dataset\n",
    "import pandas as pd\n",
    "\n",
    "ds = load_dataset(\"TrajanovRisto/esg-sentiment\")"
   ]
  },
  {
   "cell_type": "code",
   "execution_count": 2,
   "metadata": {},
   "outputs": [],
   "source": [
    "for split in ds.keys():\n",
    "    df = pd.DataFrame(ds[split])\n",
    "    df.to_csv(f\"esg_sentiment_{split}.csv\", index=False)\n"
   ]
  },
  {
   "cell_type": "code",
   "execution_count": 5,
   "metadata": {},
   "outputs": [
    {
     "data": {
      "application/vnd.jupyter.widget-view+json": {
       "model_id": "1359933629a24162babaeb380e0e4f7d",
       "version_major": 2,
       "version_minor": 0
      },
      "text/plain": [
       "governance_data.csv:   0%|          | 0.00/632M [00:00<?, ?B/s]"
      ]
     },
     "metadata": {},
     "output_type": "display_data"
    },
    {
     "data": {
      "application/vnd.jupyter.widget-view+json": {
       "model_id": "2088d22e09414a498f7a0902b448866f",
       "version_major": 2,
       "version_minor": 0
      },
      "text/plain": [
       "Generating train split:   0%|          | 0/3011546 [00:00<?, ? examples/s]"
      ]
     },
     "metadata": {},
     "output_type": "display_data"
    }
   ],
   "source": [
    "from datasets import load_dataset\n",
    "\n",
    "ds_g = load_dataset(\"ESGBERT/governance_data\")"
   ]
  },
  {
   "cell_type": "code",
   "execution_count": 6,
   "metadata": {},
   "outputs": [],
   "source": [
    "for split in ds_g.keys():\n",
    "    df = pd.DataFrame(ds_g[split])\n",
    "    df.to_csv(f\"governance_data{split}.csv\", index=False)\n"
   ]
  },
  {
   "cell_type": "code",
   "execution_count": 7,
   "metadata": {},
   "outputs": [
    {
     "data": {
      "application/vnd.jupyter.widget-view+json": {
       "model_id": "0e65b9bf44f64ec987e55fae633204be",
       "version_major": 2,
       "version_minor": 0
      },
      "text/plain": [
       "social_data.csv:   0%|          | 0.00/353M [00:00<?, ?B/s]"
      ]
     },
     "metadata": {},
     "output_type": "display_data"
    },
    {
     "data": {
      "application/vnd.jupyter.widget-view+json": {
       "model_id": "8aa0b5a1881d4deba80c2ab33b2a2b54",
       "version_major": 2,
       "version_minor": 0
      },
      "text/plain": [
       "Generating train split:   0%|          | 0/1787198 [00:00<?, ? examples/s]"
      ]
     },
     "metadata": {},
     "output_type": "display_data"
    }
   ],
   "source": [
    "from datasets import load_dataset\n",
    "\n",
    "ds_s = load_dataset(\"ESGBERT/social_data\")"
   ]
  },
  {
   "cell_type": "code",
   "execution_count": 8,
   "metadata": {},
   "outputs": [],
   "source": [
    "for split in ds_s.keys():\n",
    "    df = pd.DataFrame(ds_s[split])\n",
    "    df.to_csv(f\"social_data{split}.csv\", index=False)\n"
   ]
  },
  {
   "cell_type": "code",
   "execution_count": 9,
   "metadata": {},
   "outputs": [
    {
     "data": {
      "application/vnd.jupyter.widget-view+json": {
       "model_id": "c4a46adcaaa34f71aabb9a65f442fe0c",
       "version_major": 2,
       "version_minor": 0
      },
      "text/plain": [
       "environment_data.csv:   0%|          | 0.00/391M [00:00<?, ?B/s]"
      ]
     },
     "metadata": {},
     "output_type": "display_data"
    },
    {
     "data": {
      "application/vnd.jupyter.widget-view+json": {
       "model_id": "0abc3c684cc949559b262f02fc31020a",
       "version_major": 2,
       "version_minor": 0
      },
      "text/plain": [
       "Generating train split:   0%|          | 0/2100586 [00:00<?, ? examples/s]"
      ]
     },
     "metadata": {},
     "output_type": "display_data"
    }
   ],
   "source": [
    "from datasets import load_dataset\n",
    "\n",
    "ds_e = load_dataset(\"ESGBERT/environment_data\")"
   ]
  },
  {
   "cell_type": "code",
   "execution_count": 10,
   "metadata": {},
   "outputs": [],
   "source": [
    "for split in ds_e.keys():\n",
    "    df = pd.DataFrame(ds_e[split])\n",
    "    df.to_csv(f\"environment_data{split}.csv\", index=False)\n"
   ]
  },
  {
   "cell_type": "code",
   "execution_count": 1,
   "metadata": {},
   "outputs": [],
   "source": [
    "from datasets import load_dataset\n",
    "\n",
    "ds_base = load_dataset(\"ESGBERT/base_data\")"
   ]
  },
  {
   "cell_type": "code",
   "execution_count": 3,
   "metadata": {},
   "outputs": [],
   "source": [
    "import pandas as pd"
   ]
  },
  {
   "cell_type": "code",
   "execution_count": 5,
   "metadata": {},
   "outputs": [],
   "source": [
    "for split in ds_base.keys():\n",
    "    df = pd.DataFrame(ds_base[split])\n",
    "    for i in range(1, 4):  # three different samples\n",
    "        df_sample = df.sample(n=min(10000, len(df)), random_state=i)  # change random_state for variability\n",
    "        df_sample.to_csv(f\"base_data_{split}_sample{i}.csv\", index=False)\n",
    "\n"
   ]
  },
  {
   "cell_type": "code",
   "execution_count": 6,
   "metadata": {},
   "outputs": [],
   "source": [
    "from datasets import load_dataset\n",
    "\n",
    "ds_s2 = load_dataset(\"ESGBERT/social_data\")"
   ]
  },
  {
   "cell_type": "code",
   "execution_count": 8,
   "metadata": {},
   "outputs": [],
   "source": [
    "ds_s2 = df.sample(n=min(7000, len(df)))  # change random_state for variability\n",
    "ds_s2.to_csv(\"social_7000.csv\", index=False)\n"
   ]
  },
  {
   "cell_type": "code",
   "execution_count": 14,
   "metadata": {},
   "outputs": [],
   "source": [
    "for split in ds_s2.keys():\n",
    "    df = pd.DataFrame(ds_s2[split])\n",
    "    df.to_csv(f\"social_2k{split}.csv\", index=False)\n"
   ]
  },
  {
   "cell_type": "code",
   "execution_count": 15,
   "metadata": {},
   "outputs": [
    {
     "data": {
      "application/vnd.jupyter.widget-view+json": {
       "model_id": "b7abf02c25c24289a491a1e5e07dea0a",
       "version_major": 2,
       "version_minor": 0
      },
      "text/plain": [
       "README.md:   0%|          | 0.00/28.0 [00:00<?, ?B/s]"
      ]
     },
     "metadata": {},
     "output_type": "display_data"
    },
    {
     "data": {
      "application/vnd.jupyter.widget-view+json": {
       "model_id": "949121525a2a4c48b9b349f29cd8f06b",
       "version_major": 2,
       "version_minor": 0
      },
      "text/plain": [
       "environmental_2k.csv:   0%|          | 0.00/362k [00:00<?, ?B/s]"
      ]
     },
     "metadata": {},
     "output_type": "display_data"
    },
    {
     "data": {
      "application/vnd.jupyter.widget-view+json": {
       "model_id": "9b3ebd63cace46d9a5314e72367922d3",
       "version_major": 2,
       "version_minor": 0
      },
      "text/plain": [
       "Generating train split:   0%|          | 0/2000 [00:00<?, ? examples/s]"
      ]
     },
     "metadata": {},
     "output_type": "display_data"
    }
   ],
   "source": [
    "from datasets import load_dataset\n",
    "\n",
    "ds_e2 = load_dataset(\"ESGBERT/environmental_2k\")"
   ]
  },
  {
   "cell_type": "code",
   "execution_count": 16,
   "metadata": {},
   "outputs": [],
   "source": [
    "for split in ds_e2.keys():\n",
    "    df = pd.DataFrame(ds_e2[split])\n",
    "    df.to_csv(f\"environmental_2k{split}.csv\", index=False)\n"
   ]
  },
  {
   "cell_type": "code",
   "execution_count": 17,
   "metadata": {},
   "outputs": [
    {
     "data": {
      "application/vnd.jupyter.widget-view+json": {
       "model_id": "c4142c9d9047483c80bc6c1ad06fdb59",
       "version_major": 2,
       "version_minor": 0
      },
      "text/plain": [
       "governance_2k.csv:   0%|          | 0.00/366k [00:00<?, ?B/s]"
      ]
     },
     "metadata": {},
     "output_type": "display_data"
    },
    {
     "data": {
      "application/vnd.jupyter.widget-view+json": {
       "model_id": "a919e880f0ab41fa9bb3600aeaf67fb5",
       "version_major": 2,
       "version_minor": 0
      },
      "text/plain": [
       "Generating train split:   0%|          | 0/2000 [00:00<?, ? examples/s]"
      ]
     },
     "metadata": {},
     "output_type": "display_data"
    }
   ],
   "source": [
    "from datasets import load_dataset\n",
    "\n",
    "ds_g2 = load_dataset(\"ESGBERT/governance_2k\")"
   ]
  },
  {
   "cell_type": "code",
   "execution_count": 18,
   "metadata": {},
   "outputs": [],
   "source": [
    "for split in ds_g2.keys():\n",
    "    df = pd.DataFrame(ds_g2[split])\n",
    "    df.to_csv(f\"governance_2k{split}.csv\", index=False)\n"
   ]
  },
  {
   "cell_type": "code",
   "execution_count": 2,
   "metadata": {},
   "outputs": [],
   "source": [
    "df_sentiment = pd.read_csv(\"esg_sentiment_train.csv\")"
   ]
  },
  {
   "cell_type": "code",
   "execution_count": 3,
   "metadata": {},
   "outputs": [],
   "source": [
    "df_sentiment_2 = pd.read_csv(\"esg_sentiment_test.csv\")"
   ]
  },
  {
   "cell_type": "code",
   "execution_count": null,
   "metadata": {},
   "outputs": [],
   "source": [
    "df_sentiment = pd.concat([df_sentiment, df_sentiment_2])"
   ]
  },
  {
   "cell_type": "code",
   "execution_count": 5,
   "metadata": {},
   "outputs": [
    {
     "data": {
      "text/html": [
       "<div>\n",
       "<style scoped>\n",
       "    .dataframe tbody tr th:only-of-type {\n",
       "        vertical-align: middle;\n",
       "    }\n",
       "\n",
       "    .dataframe tbody tr th {\n",
       "        vertical-align: top;\n",
       "    }\n",
       "\n",
       "    .dataframe thead th {\n",
       "        text-align: right;\n",
       "    }\n",
       "</style>\n",
       "<table border=\"1\" class=\"dataframe\">\n",
       "  <thead>\n",
       "    <tr style=\"text-align: right;\">\n",
       "      <th></th>\n",
       "      <th>Text</th>\n",
       "      <th>Environmental Negative</th>\n",
       "      <th>Environmental Neutral</th>\n",
       "      <th>Environmental Positive</th>\n",
       "      <th>Governance Negative</th>\n",
       "      <th>Governance Neutral</th>\n",
       "      <th>Governance Positive</th>\n",
       "      <th>Social Negative</th>\n",
       "      <th>Social Neutral</th>\n",
       "      <th>Social Positive</th>\n",
       "      <th>__index_level_0__</th>\n",
       "    </tr>\n",
       "  </thead>\n",
       "  <tbody>\n",
       "    <tr>\n",
       "      <th>0</th>\n",
       "      <td>Also, its U.S.-based plants have voluntarily p...</td>\n",
       "      <td>0</td>\n",
       "      <td>0</td>\n",
       "      <td>1</td>\n",
       "      <td>0</td>\n",
       "      <td>0</td>\n",
       "      <td>1</td>\n",
       "      <td>0</td>\n",
       "      <td>0</td>\n",
       "      <td>1</td>\n",
       "      <td>174</td>\n",
       "    </tr>\n",
       "    <tr>\n",
       "      <th>1</th>\n",
       "      <td>Investors are concerned that Chevron has not a...</td>\n",
       "      <td>1</td>\n",
       "      <td>0</td>\n",
       "      <td>0</td>\n",
       "      <td>1</td>\n",
       "      <td>0</td>\n",
       "      <td>0</td>\n",
       "      <td>0</td>\n",
       "      <td>0</td>\n",
       "      <td>0</td>\n",
       "      <td>460</td>\n",
       "    </tr>\n",
       "    <tr>\n",
       "      <th>2</th>\n",
       "      <td>The Board should summarize its findings to sha...</td>\n",
       "      <td>0</td>\n",
       "      <td>0</td>\n",
       "      <td>0</td>\n",
       "      <td>0</td>\n",
       "      <td>1</td>\n",
       "      <td>0</td>\n",
       "      <td>0</td>\n",
       "      <td>0</td>\n",
       "      <td>0</td>\n",
       "      <td>356</td>\n",
       "    </tr>\n",
       "    <tr>\n",
       "      <th>3</th>\n",
       "      <td>These Committees regularly assess risks and op...</td>\n",
       "      <td>0</td>\n",
       "      <td>0</td>\n",
       "      <td>0</td>\n",
       "      <td>0</td>\n",
       "      <td>0</td>\n",
       "      <td>1</td>\n",
       "      <td>0</td>\n",
       "      <td>0</td>\n",
       "      <td>0</td>\n",
       "      <td>80</td>\n",
       "    </tr>\n",
       "    <tr>\n",
       "      <th>4</th>\n",
       "      <td>Historically, releases from CPChem’s petrochem...</td>\n",
       "      <td>1</td>\n",
       "      <td>0</td>\n",
       "      <td>0</td>\n",
       "      <td>1</td>\n",
       "      <td>0</td>\n",
       "      <td>0</td>\n",
       "      <td>0</td>\n",
       "      <td>0</td>\n",
       "      <td>0</td>\n",
       "      <td>154</td>\n",
       "    </tr>\n",
       "    <tr>\n",
       "      <th>...</th>\n",
       "      <td>...</td>\n",
       "      <td>...</td>\n",
       "      <td>...</td>\n",
       "      <td>...</td>\n",
       "      <td>...</td>\n",
       "      <td>...</td>\n",
       "      <td>...</td>\n",
       "      <td>...</td>\n",
       "      <td>...</td>\n",
       "      <td>...</td>\n",
       "      <td>...</td>\n",
       "    </tr>\n",
       "    <tr>\n",
       "      <th>63</th>\n",
       "      <td>This policy would phase in for the next CEO tr...</td>\n",
       "      <td>0</td>\n",
       "      <td>0</td>\n",
       "      <td>0</td>\n",
       "      <td>0</td>\n",
       "      <td>0</td>\n",
       "      <td>1</td>\n",
       "      <td>0</td>\n",
       "      <td>0</td>\n",
       "      <td>0</td>\n",
       "      <td>450</td>\n",
       "    </tr>\n",
       "    <tr>\n",
       "      <th>64</th>\n",
       "      <td>The policies of the energy industry are crucia...</td>\n",
       "      <td>0</td>\n",
       "      <td>0</td>\n",
       "      <td>1</td>\n",
       "      <td>0</td>\n",
       "      <td>0</td>\n",
       "      <td>0</td>\n",
       "      <td>0</td>\n",
       "      <td>0</td>\n",
       "      <td>0</td>\n",
       "      <td>312</td>\n",
       "    </tr>\n",
       "    <tr>\n",
       "      <th>65</th>\n",
       "      <td>In addition, inadequate board attention could ...</td>\n",
       "      <td>0</td>\n",
       "      <td>0</td>\n",
       "      <td>0</td>\n",
       "      <td>1</td>\n",
       "      <td>0</td>\n",
       "      <td>0</td>\n",
       "      <td>1</td>\n",
       "      <td>0</td>\n",
       "      <td>0</td>\n",
       "      <td>285</td>\n",
       "    </tr>\n",
       "    <tr>\n",
       "      <th>66</th>\n",
       "      <td>Your Board recommends a vote AGAINST this prop...</td>\n",
       "      <td>0</td>\n",
       "      <td>0</td>\n",
       "      <td>0</td>\n",
       "      <td>0</td>\n",
       "      <td>1</td>\n",
       "      <td>0</td>\n",
       "      <td>0</td>\n",
       "      <td>0</td>\n",
       "      <td>0</td>\n",
       "      <td>110</td>\n",
       "    </tr>\n",
       "    <tr>\n",
       "      <th>67</th>\n",
       "      <td>Chevron advocates on behalf of its employees a...</td>\n",
       "      <td>0</td>\n",
       "      <td>0</td>\n",
       "      <td>0</td>\n",
       "      <td>0</td>\n",
       "      <td>0</td>\n",
       "      <td>0</td>\n",
       "      <td>0</td>\n",
       "      <td>0</td>\n",
       "      <td>1</td>\n",
       "      <td>420</td>\n",
       "    </tr>\n",
       "  </tbody>\n",
       "</table>\n",
       "<p>679 rows × 11 columns</p>\n",
       "</div>"
      ],
      "text/plain": [
       "                                                 Text  Environmental Negative  \\\n",
       "0   Also, its U.S.-based plants have voluntarily p...                       0   \n",
       "1   Investors are concerned that Chevron has not a...                       1   \n",
       "2   The Board should summarize its findings to sha...                       0   \n",
       "3   These Committees regularly assess risks and op...                       0   \n",
       "4   Historically, releases from CPChem’s petrochem...                       1   \n",
       "..                                                ...                     ...   \n",
       "63  This policy would phase in for the next CEO tr...                       0   \n",
       "64  The policies of the energy industry are crucia...                       0   \n",
       "65  In addition, inadequate board attention could ...                       0   \n",
       "66  Your Board recommends a vote AGAINST this prop...                       0   \n",
       "67  Chevron advocates on behalf of its employees a...                       0   \n",
       "\n",
       "    Environmental Neutral  Environmental Positive  Governance Negative  \\\n",
       "0                       0                       1                    0   \n",
       "1                       0                       0                    1   \n",
       "2                       0                       0                    0   \n",
       "3                       0                       0                    0   \n",
       "4                       0                       0                    1   \n",
       "..                    ...                     ...                  ...   \n",
       "63                      0                       0                    0   \n",
       "64                      0                       1                    0   \n",
       "65                      0                       0                    1   \n",
       "66                      0                       0                    0   \n",
       "67                      0                       0                    0   \n",
       "\n",
       "    Governance Neutral  Governance Positive  Social Negative  Social Neutral  \\\n",
       "0                    0                    1                0               0   \n",
       "1                    0                    0                0               0   \n",
       "2                    1                    0                0               0   \n",
       "3                    0                    1                0               0   \n",
       "4                    0                    0                0               0   \n",
       "..                 ...                  ...              ...             ...   \n",
       "63                   0                    1                0               0   \n",
       "64                   0                    0                0               0   \n",
       "65                   0                    0                1               0   \n",
       "66                   1                    0                0               0   \n",
       "67                   0                    0                0               0   \n",
       "\n",
       "    Social Positive  __index_level_0__  \n",
       "0                 1                174  \n",
       "1                 0                460  \n",
       "2                 0                356  \n",
       "3                 0                 80  \n",
       "4                 0                154  \n",
       "..              ...                ...  \n",
       "63                0                450  \n",
       "64                0                312  \n",
       "65                0                285  \n",
       "66                0                110  \n",
       "67                1                420  \n",
       "\n",
       "[679 rows x 11 columns]"
      ]
     },
     "execution_count": 5,
     "metadata": {},
     "output_type": "execute_result"
    }
   ],
   "source": [
    "df_sentiment "
   ]
  },
  {
   "cell_type": "code",
   "execution_count": null,
   "metadata": {},
   "outputs": [
    {
     "data": {
      "text/html": [
       "<div>\n",
       "<style scoped>\n",
       "    .dataframe tbody tr th:only-of-type {\n",
       "        vertical-align: middle;\n",
       "    }\n",
       "\n",
       "    .dataframe tbody tr th {\n",
       "        vertical-align: top;\n",
       "    }\n",
       "\n",
       "    .dataframe thead th {\n",
       "        text-align: right;\n",
       "    }\n",
       "</style>\n",
       "<table border=\"1\" class=\"dataframe\">\n",
       "  <thead>\n",
       "    <tr style=\"text-align: right;\">\n",
       "      <th></th>\n",
       "      <th>Text</th>\n",
       "      <th>Environmental</th>\n",
       "      <th>Governance</th>\n",
       "      <th>Social</th>\n",
       "    </tr>\n",
       "  </thead>\n",
       "  <tbody>\n",
       "    <tr>\n",
       "      <th>0</th>\n",
       "      <td>Also, its U.S.-based plants have voluntarily p...</td>\n",
       "      <td>1</td>\n",
       "      <td>1</td>\n",
       "      <td>1</td>\n",
       "    </tr>\n",
       "    <tr>\n",
       "      <th>1</th>\n",
       "      <td>Investors are concerned that Chevron has not a...</td>\n",
       "      <td>1</td>\n",
       "      <td>1</td>\n",
       "      <td>0</td>\n",
       "    </tr>\n",
       "    <tr>\n",
       "      <th>2</th>\n",
       "      <td>The Board should summarize its findings to sha...</td>\n",
       "      <td>0</td>\n",
       "      <td>1</td>\n",
       "      <td>0</td>\n",
       "    </tr>\n",
       "    <tr>\n",
       "      <th>3</th>\n",
       "      <td>These Committees regularly assess risks and op...</td>\n",
       "      <td>0</td>\n",
       "      <td>1</td>\n",
       "      <td>0</td>\n",
       "    </tr>\n",
       "    <tr>\n",
       "      <th>4</th>\n",
       "      <td>Historically, releases from CPChem’s petrochem...</td>\n",
       "      <td>1</td>\n",
       "      <td>1</td>\n",
       "      <td>0</td>\n",
       "    </tr>\n",
       "    <tr>\n",
       "      <th>...</th>\n",
       "      <td>...</td>\n",
       "      <td>...</td>\n",
       "      <td>...</td>\n",
       "      <td>...</td>\n",
       "    </tr>\n",
       "    <tr>\n",
       "      <th>63</th>\n",
       "      <td>This policy would phase in for the next CEO tr...</td>\n",
       "      <td>0</td>\n",
       "      <td>1</td>\n",
       "      <td>0</td>\n",
       "    </tr>\n",
       "    <tr>\n",
       "      <th>64</th>\n",
       "      <td>The policies of the energy industry are crucia...</td>\n",
       "      <td>1</td>\n",
       "      <td>0</td>\n",
       "      <td>0</td>\n",
       "    </tr>\n",
       "    <tr>\n",
       "      <th>65</th>\n",
       "      <td>In addition, inadequate board attention could ...</td>\n",
       "      <td>0</td>\n",
       "      <td>1</td>\n",
       "      <td>1</td>\n",
       "    </tr>\n",
       "    <tr>\n",
       "      <th>66</th>\n",
       "      <td>Your Board recommends a vote AGAINST this prop...</td>\n",
       "      <td>0</td>\n",
       "      <td>1</td>\n",
       "      <td>0</td>\n",
       "    </tr>\n",
       "    <tr>\n",
       "      <th>67</th>\n",
       "      <td>Chevron advocates on behalf of its employees a...</td>\n",
       "      <td>0</td>\n",
       "      <td>0</td>\n",
       "      <td>1</td>\n",
       "    </tr>\n",
       "  </tbody>\n",
       "</table>\n",
       "<p>679 rows × 4 columns</p>\n",
       "</div>"
      ],
      "text/plain": [
       "                                                 Text  Environmental  \\\n",
       "0   Also, its U.S.-based plants have voluntarily p...              1   \n",
       "1   Investors are concerned that Chevron has not a...              1   \n",
       "2   The Board should summarize its findings to sha...              0   \n",
       "3   These Committees regularly assess risks and op...              0   \n",
       "4   Historically, releases from CPChem’s petrochem...              1   \n",
       "..                                                ...            ...   \n",
       "63  This policy would phase in for the next CEO tr...              0   \n",
       "64  The policies of the energy industry are crucia...              1   \n",
       "65  In addition, inadequate board attention could ...              0   \n",
       "66  Your Board recommends a vote AGAINST this prop...              0   \n",
       "67  Chevron advocates on behalf of its employees a...              0   \n",
       "\n",
       "    Governance  Social  \n",
       "0            1       1  \n",
       "1            1       0  \n",
       "2            1       0  \n",
       "3            1       0  \n",
       "4            1       0  \n",
       "..         ...     ...  \n",
       "63           1       0  \n",
       "64           0       0  \n",
       "65           1       1  \n",
       "66           1       0  \n",
       "67           0       1  \n",
       "\n",
       "[679 rows x 4 columns]"
      ]
     },
     "execution_count": 7,
     "metadata": {},
     "output_type": "execute_result"
    }
   ],
   "source": [
    "def process_sentiment_data(df):\n",
    "    df['Environmental'] = df[['Environmental Negative', 'Environmental Neutral', 'Environmental Positive']].max(axis=1)\n",
    "    df['Governance'] = df[['Governance Negative', 'Governance Neutral', 'Governance Positive']].max(axis=1)\n",
    "    df['Social'] = df[['Social Negative', 'Social Neutral', 'Social Positive']].max(axis=1)\n",
    "    \n",
    "    return df[['Text', 'Environmental', 'Governance', 'Social']]\n",
    "\n",
    "df_processed = process_sentiment_data(df_sentiment)\n",
    "\n",
    "df_processed"
   ]
  },
  {
   "cell_type": "code",
   "execution_count": null,
   "metadata": {},
   "outputs": [
    {
     "name": "stdout",
     "output_type": "stream",
     "text": [
      "                                                text esg_category\n",
      "0  Also, its U.S.-based plants have voluntarily p...            E\n",
      "1  Investors are concerned that Chevron has not a...            E\n",
      "2  The Board should summarize its findings to sha...            G\n",
      "3  These Committees regularly assess risks and op...            G\n",
      "4  Historically, releases from CPChem’s petrochem...            E\n"
     ]
    }
   ],
   "source": [
    "import pandas as pd\n",
    "\n",
    "df = pd.read_csv(\"esg_sentiment.csv\")\n",
    "\n",
    "env_cols = [\"Environmental Negative\", \"Environmental Neutral\", \"Environmental Positive\"]\n",
    "gov_cols = [\"Governance Negative\", \"Governance Neutral\", \"Governance Positive\"]\n",
    "soc_cols = [\"Social Negative\", \"Social Neutral\", \"Social Positive\"]\n",
    "\n",
    "def get_esg_category(row):\n",
    "    if row[env_cols].sum() > 0:\n",
    "        return \"E\"\n",
    "    elif row[gov_cols].sum() > 0:\n",
    "        return \"G\"\n",
    "    elif row[soc_cols].sum() > 0:\n",
    "        return \"S\"\n",
    "    else:\n",
    "        return None  \n",
    "\n",
    "df[\"esg_category\"] = df.apply(get_esg_category, axis=1)\n",
    "\n",
    "final_df = df[[\"Text\", \"esg_category\"]].rename(columns={\"Text\": \"text\"})\n",
    "\n",
    "final_df = final_df.dropna(subset=[\"esg_category\"])\n",
    "\n",
    "final_df.to_csv(\"esg_sentiment_clean.csv\", index=False)\n",
    "\n",
    "print(final_df.head())\n"
   ]
  },
  {
   "cell_type": "code",
   "execution_count": 23,
   "metadata": {},
   "outputs": [
    {
     "name": "stdout",
     "output_type": "stream",
     "text": [
      "✅ Saved datasets:\n",
      "Environment: 245\n",
      "Social: 43\n",
      "Governance: 391\n"
     ]
    }
   ],
   "source": [
    "# Separate by ESG category\n",
    "\n",
    "# For Environment\n",
    "df_env = final_df[final_df[\"esg_category\"] == \"E\"].copy()\n",
    "df_env = df_env.rename(columns={\"esg_category\": \"env\"})\n",
    "df_env[\"env\"] = 1\n",
    "df_env.to_csv(\"env_dataset.csv\", index=False)\n",
    "\n",
    "# For Social\n",
    "df_soc = final_df[final_df[\"esg_category\"] == \"S\"].copy()\n",
    "df_soc = df_soc.rename(columns={\"esg_category\": \"soc\"})\n",
    "df_soc[\"soc\"] = 1\n",
    "df_soc.to_csv(\"soc_dataset.csv\", index=False)\n",
    "\n",
    "# For Governance\n",
    "df_gov = final_df[final_df[\"esg_category\"] == \"G\"].copy()\n",
    "df_gov = df_gov.rename(columns={\"esg_category\": \"gov\"})\n",
    "df_gov[\"gov\"] = 1\n",
    "df_gov.to_csv(\"gov_dataset.csv\", index=False)\n",
    "\n",
    "\n",
    "# Check sizes\n",
    "print(\"✅ Saved datasets:\")\n",
    "print(\"Environment:\", len(df_env))\n",
    "print(\"Social:\", len(df_soc))\n",
    "print(\"Governance:\", len(df_gov))\n"
   ]
  }
 ],
 "metadata": {
  "kernelspec": {
   "display_name": ".venv",
   "language": "python",
   "name": "python3"
  },
  "language_info": {
   "codemirror_mode": {
    "name": "ipython",
    "version": 3
   },
   "file_extension": ".py",
   "mimetype": "text/x-python",
   "name": "python",
   "nbconvert_exporter": "python",
   "pygments_lexer": "ipython3",
   "version": "3.12.10"
  }
 },
 "nbformat": 4,
 "nbformat_minor": 2
}
